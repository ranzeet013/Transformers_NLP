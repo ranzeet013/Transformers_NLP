{
 "cells": [
  {
   "cell_type": "code",
   "execution_count": 1,
   "id": "eca6d44c",
   "metadata": {},
   "outputs": [
    {
     "name": "stdout",
     "output_type": "stream",
     "text": [
      "WARNING:tensorflow:From C:\\Users\\DELL\\AppData\\Local\\Programs\\Python\\Python311\\Lib\\site-packages\\keras\\src\\losses.py:2976: The name tf.losses.sparse_softmax_cross_entropy is deprecated. Please use tf.compat.v1.losses.sparse_softmax_cross_entropy instead.\n",
      "\n"
     ]
    }
   ],
   "source": [
    "import numpy as np\n",
    "import pandas as pd\n",
    "import textwrap \n",
    "\n",
    "from transformers import pipeline \n",
    "from pprint import pprint \n",
    "\n",
    "import warnings\n",
    "warnings.filterwarnings('ignore')"
   ]
  },
  {
   "cell_type": "code",
   "execution_count": 2,
   "id": "e584d212",
   "metadata": {},
   "outputs": [],
   "source": [
    "article = ('Ukraine Aid Falters in Senate as Republicans Insist on Border Restrictions')"
   ]
  },
  {
   "cell_type": "markdown",
   "id": "55c27cef",
   "metadata": {},
   "source": [
    "### Masked Language Modeling : "
   ]
  },
  {
   "cell_type": "markdown",
   "id": "9f2f1e90",
   "metadata": {},
   "source": [
    "\n",
    "Masked Language Modeling (MLM) is a type of language modeling task used in natural language processing (NLP) and machine learning. In MLM, certain words in a given text are randomly masked or replaced with a special token. The model is then trained to predict the original words based on the context provided by the surrounding words. This helps the model learn the relationships between words and improve its understanding of language semantics. MLM is a key component in pre-training language models, where a model is first trained on a large corpus of text before being fine-tuned for specific downstream tasks. It has been particularly successful in the development of state-of-the-art models for various NLP applications."
   ]
  },
  {
   "cell_type": "code",
   "execution_count": 3,
   "id": "d2082247",
   "metadata": {},
   "outputs": [
    {
     "name": "stderr",
     "output_type": "stream",
     "text": [
      "No model was supplied, defaulted to distilroberta-base and revision ec58a5b (https://huggingface.co/distilroberta-base).\n",
      "Using a pipeline without specifying a model name and revision in production is not recommended.\n"
     ]
    },
    {
     "data": {
      "application/vnd.jupyter.widget-view+json": {
       "model_id": "54d89c0a3ea14e0d990a3d51d6791d40",
       "version_major": 2,
       "version_minor": 0
      },
      "text/plain": [
       "config.json:   0%|          | 0.00/480 [00:00<?, ?B/s]"
      ]
     },
     "metadata": {},
     "output_type": "display_data"
    },
    {
     "data": {
      "application/vnd.jupyter.widget-view+json": {
       "model_id": "02ca3884e6a643cca7f7adfeec52b541",
       "version_major": 2,
       "version_minor": 0
      },
      "text/plain": [
       "model.safetensors:   0%|          | 0.00/331M [00:00<?, ?B/s]"
      ]
     },
     "metadata": {},
     "output_type": "display_data"
    },
    {
     "name": "stderr",
     "output_type": "stream",
     "text": [
      "Some weights of the model checkpoint at distilroberta-base were not used when initializing RobertaForMaskedLM: ['roberta.pooler.dense.bias', 'roberta.pooler.dense.weight']\n",
      "- This IS expected if you are initializing RobertaForMaskedLM from the checkpoint of a model trained on another task or with another architecture (e.g. initializing a BertForSequenceClassification model from a BertForPreTraining model).\n",
      "- This IS NOT expected if you are initializing RobertaForMaskedLM from the checkpoint of a model that you expect to be exactly identical (initializing a BertForSequenceClassification model from a BertForSequenceClassification model).\n"
     ]
    },
    {
     "data": {
      "application/vnd.jupyter.widget-view+json": {
       "model_id": "f56af659f2ed422680ee8ec00a6287b6",
       "version_major": 2,
       "version_minor": 0
      },
      "text/plain": [
       "vocab.json:   0%|          | 0.00/899k [00:00<?, ?B/s]"
      ]
     },
     "metadata": {},
     "output_type": "display_data"
    },
    {
     "data": {
      "application/vnd.jupyter.widget-view+json": {
       "model_id": "802e11b9e6ba45539664a2991f5d66d3",
       "version_major": 2,
       "version_minor": 0
      },
      "text/plain": [
       "merges.txt:   0%|          | 0.00/456k [00:00<?, ?B/s]"
      ]
     },
     "metadata": {},
     "output_type": "display_data"
    },
    {
     "data": {
      "application/vnd.jupyter.widget-view+json": {
       "model_id": "6259e2cd7c6c45f18de23c69c909dbc2",
       "version_major": 2,
       "version_minor": 0
      },
      "text/plain": [
       "tokenizer.json:   0%|          | 0.00/1.36M [00:00<?, ?B/s]"
      ]
     },
     "metadata": {},
     "output_type": "display_data"
    }
   ],
   "source": [
    "mask_language_modeling  = pipeline('fill-mask')"
   ]
  },
  {
   "cell_type": "code",
   "execution_count": 5,
   "id": "b46dffc2",
   "metadata": {},
   "outputs": [
    {
     "data": {
      "text/plain": [
       "[{'score': 0.2907087504863739,\n",
       "  'token': 10421,\n",
       "  'token_str': ' Senators',\n",
       "  'sequence': 'Ukraine Aid Falters in Senate as Senators Insist on Border Restrictions'},\n",
       " {'score': 0.11857026070356369,\n",
       "  'token': 40248,\n",
       "  'token_str': ' Ukrainians',\n",
       "  'sequence': 'Ukraine Aid Falters in Senate as Ukrainians Insist on Border Restrictions'},\n",
       " {'score': 0.11385078728199005,\n",
       "  'token': 27796,\n",
       "  'token_str': ' Dems',\n",
       "  'sequence': 'Ukraine Aid Falters in Senate as Dems Insist on Border Restrictions'},\n",
       " {'score': 0.09001718461513519,\n",
       "  'token': 1574,\n",
       "  'token_str': ' Democrats',\n",
       "  'sequence': 'Ukraine Aid Falters in Senate as Democrats Insist on Border Restrictions'},\n",
       " {'score': 0.049193527549505234,\n",
       "  'token': 1858,\n",
       "  'token_str': ' Republicans',\n",
       "  'sequence': 'Ukraine Aid Falters in Senate as Republicans Insist on Border Restrictions'}]"
      ]
     },
     "execution_count": 5,
     "metadata": {},
     "output_type": "execute_result"
    }
   ],
   "source": [
    "mask_language_modeling('Ukraine Aid Falters in Senate as <mask> Insist on Border Restrictions')"
   ]
  },
  {
   "cell_type": "code",
   "execution_count": 9,
   "id": "d8565cd5",
   "metadata": {},
   "outputs": [],
   "source": [
    "text = 'Ukraine Aid Falters in Senate as <mask> Insist on Border Restrictions ' + \\\n",
    "       'Legislation to send military aid to Ukraine and Israel was on the brink of collapse ' + \\\n",
    "       'after a briefing devolved into a screaming match one day before a critical test vote in the Senate.'"
   ]
  },
  {
   "cell_type": "code",
   "execution_count": 10,
   "id": "22c51dc4",
   "metadata": {},
   "outputs": [
    {
     "data": {
      "text/plain": [
       "[{'score': 0.7304500937461853,\n",
       "  'token': 10421,\n",
       "  'token_str': ' Senators',\n",
       "  'sequence': 'Ukraine Aid Falters in Senate as Senators Insist on Border Restrictions Legislation to send military aid to Ukraine and Israel was on the brink of collapse after a briefing devolved into a screaming match one day before a critical test vote in the Senate.'},\n",
       " {'score': 0.0654907077550888,\n",
       "  'token': 16029,\n",
       "  'token_str': ' Leaders',\n",
       "  'sequence': 'Ukraine Aid Falters in Senate as Leaders Insist on Border Restrictions Legislation to send military aid to Ukraine and Israel was on the brink of collapse after a briefing devolved into a screaming match one day before a critical test vote in the Senate.'},\n",
       " {'score': 0.023290002718567848,\n",
       "  'token': 1574,\n",
       "  'token_str': ' Democrats',\n",
       "  'sequence': 'Ukraine Aid Falters in Senate as Democrats Insist on Border Restrictions Legislation to send military aid to Ukraine and Israel was on the brink of collapse after a briefing devolved into a screaming match one day before a critical test vote in the Senate.'},\n",
       " {'score': 0.022708652541041374,\n",
       "  'token': 37761,\n",
       "  'token_str': ' Allies',\n",
       "  'sequence': 'Ukraine Aid Falters in Senate as Allies Insist on Border Restrictions Legislation to send military aid to Ukraine and Israel was on the brink of collapse after a briefing devolved into a screaming match one day before a critical test vote in the Senate.'},\n",
       " {'score': 0.017247123643755913,\n",
       "  'token': 27796,\n",
       "  'token_str': ' Dems',\n",
       "  'sequence': 'Ukraine Aid Falters in Senate as Dems Insist on Border Restrictions Legislation to send military aid to Ukraine and Israel was on the brink of collapse after a briefing devolved into a screaming match one day before a critical test vote in the Senate.'}]"
      ]
     },
     "execution_count": 10,
     "metadata": {},
     "output_type": "execute_result"
    }
   ],
   "source": [
    "mask_language_modeling(text)"
   ]
  },
  {
   "cell_type": "code",
   "execution_count": 12,
   "id": "d6d64ff2",
   "metadata": {},
   "outputs": [
    {
     "name": "stdout",
     "output_type": "stream",
     "text": [
      "[[{'score': 0.6874810457229614,\n",
      "   'sequence': '<s>Ukraine Aid Falters in Senate as Senators Insist on Border '\n",
      "               'Restrictions Legislation to send military aid to Ukraine and '\n",
      "               'Israel was on the brink of collapse after a briefing devolved '\n",
      "               'into a<mask> match one day before a critical test vote in the '\n",
      "               'Senate.</s>',\n",
      "   'token': 10421,\n",
      "   'token_str': ' Senators'},\n",
      "  {'score': 0.076393261551857,\n",
      "   'sequence': '<s>Ukraine Aid Falters in Senate as Leaders Insist on Border '\n",
      "               'Restrictions Legislation to send military aid to Ukraine and '\n",
      "               'Israel was on the brink of collapse after a briefing devolved '\n",
      "               'into a<mask> match one day before a critical test vote in the '\n",
      "               'Senate.</s>',\n",
      "   'token': 16029,\n",
      "   'token_str': ' Leaders'},\n",
      "  {'score': 0.030156245455145836,\n",
      "   'sequence': '<s>Ukraine Aid Falters in Senate as Allies Insist on Border '\n",
      "               'Restrictions Legislation to send military aid to Ukraine and '\n",
      "               'Israel was on the brink of collapse after a briefing devolved '\n",
      "               'into a<mask> match one day before a critical test vote in the '\n",
      "               'Senate.</s>',\n",
      "   'token': 37761,\n",
      "   'token_str': ' Allies'},\n",
      "  {'score': 0.02365095540881157,\n",
      "   'sequence': '<s>Ukraine Aid Falters in Senate as Democrats Insist on Border '\n",
      "               'Restrictions Legislation to send military aid to Ukraine and '\n",
      "               'Israel was on the brink of collapse after a briefing devolved '\n",
      "               'into a<mask> match one day before a critical test vote in the '\n",
      "               'Senate.</s>',\n",
      "   'token': 1574,\n",
      "   'token_str': ' Democrats'},\n",
      "  {'score': 0.01591913402080536,\n",
      "   'sequence': '<s>Ukraine Aid Falters in Senate as Israel Insist on Border '\n",
      "               'Restrictions Legislation to send military aid to Ukraine and '\n",
      "               'Israel was on the brink of collapse after a briefing devolved '\n",
      "               'into a<mask> match one day before a critical test vote in the '\n",
      "               'Senate.</s>',\n",
      "   'token': 1870,\n",
      "   'token_str': ' Israel'}],\n",
      " [{'score': 0.9591629505157471,\n",
      "   'sequence': '<s>Ukraine Aid Falters in Senate as<mask> Insist on Border '\n",
      "               'Restrictions Legislation to send military aid to Ukraine and '\n",
      "               'Israel was on the brink of collapse after a briefing devolved '\n",
      "               'into a shouting match one day before a critical test vote in '\n",
      "               'the Senate.</s>',\n",
      "   'token': 14487,\n",
      "   'token_str': ' shouting'},\n",
      "  {'score': 0.027504166588187218,\n",
      "   'sequence': '<s>Ukraine Aid Falters in Senate as<mask> Insist on Border '\n",
      "               'Restrictions Legislation to send military aid to Ukraine and '\n",
      "               'Israel was on the brink of collapse after a briefing devolved '\n",
      "               'into a screaming match one day before a critical test vote in '\n",
      "               'the Senate.</s>',\n",
      "   'token': 11347,\n",
      "   'token_str': ' screaming'},\n",
      "  {'score': 0.0018617092864587903,\n",
      "   'sequence': '<s>Ukraine Aid Falters in Senate as<mask> Insist on Border '\n",
      "               'Restrictions Legislation to send military aid to Ukraine and '\n",
      "               'Israel was on the brink of collapse after a briefing devolved '\n",
      "               'into a yelling match one day before a critical test vote in '\n",
      "               'the Senate.</s>',\n",
      "   'token': 16600,\n",
      "   'token_str': ' yelling'},\n",
      "  {'score': 0.001856085960753262,\n",
      "   'sequence': '<s>Ukraine Aid Falters in Senate as<mask> Insist on Border '\n",
      "               'Restrictions Legislation to send military aid to Ukraine and '\n",
      "               'Israel was on the brink of collapse after a briefing devolved '\n",
      "               'into a chess match one day before a critical test vote in the '\n",
      "               'Senate.</s>',\n",
      "   'token': 25109,\n",
      "   'token_str': ' chess'},\n",
      "  {'score': 0.0009321467368863523,\n",
      "   'sequence': '<s>Ukraine Aid Falters in Senate as<mask> Insist on Border '\n",
      "               'Restrictions Legislation to send military aid to Ukraine and '\n",
      "               'Israel was on the brink of collapse after a briefing devolved '\n",
      "               'into a wrestling match one day before a critical test vote in '\n",
      "               'the Senate.</s>',\n",
      "   'token': 9576,\n",
      "   'token_str': ' wrestling'}]]\n"
     ]
    }
   ],
   "source": [
    "text = 'Ukraine Aid Falters in Senate as <mask> Insist on Border Restrictions ' + \\\n",
    "       'Legislation to send military aid to Ukraine and Israel was on the brink of collapse ' + \\\n",
    "       'after a briefing devolved into a <mask> match one day before a critical test vote in the Senate.'\n",
    "\n",
    "pprint(mask_language_modeling(text))"
   ]
  }
 ],
 "metadata": {
  "kernelspec": {
   "display_name": "Python 3 (ipykernel)",
   "language": "python",
   "name": "python3"
  },
  "language_info": {
   "codemirror_mode": {
    "name": "ipython",
    "version": 3
   },
   "file_extension": ".py",
   "mimetype": "text/x-python",
   "name": "python",
   "nbconvert_exporter": "python",
   "pygments_lexer": "ipython3",
   "version": "3.11.3"
  }
 },
 "nbformat": 4,
 "nbformat_minor": 5
}
