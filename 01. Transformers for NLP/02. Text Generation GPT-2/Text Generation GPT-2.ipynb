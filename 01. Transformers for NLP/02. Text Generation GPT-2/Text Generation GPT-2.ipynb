{
 "cells": [
  {
   "cell_type": "code",
   "execution_count": 3,
   "id": "e30d1d7f",
   "metadata": {},
   "outputs": [],
   "source": [
    "import pandas as pd\n",
    "import numpy as np\n",
    "import seaborn as sns\n",
    "import matplotlib.pyplot as plt\n",
    "\n",
    "%matplotlib inline\n",
    "\n",
    "import textwrap\n",
    "from transformers import pipeline, set_seed\n",
    "from pprint import pprint\n",
    "\n",
    "import warnings\n",
    "warnings.filterwarnings('ignore')"
   ]
  },
  {
   "cell_type": "code",
   "execution_count": 4,
   "id": "883e080b",
   "metadata": {},
   "outputs": [],
   "source": [
    "text = ('The Book of Genesis is the first book of the Hebrew Bible and the Christian Old Testament. It serves as the opening chapter of both religious texts and is foundational to the Abrahamic faiths, including Judaism, Christianity, and Islam. Genesis is a compilation of ancient narratives that explore the creation of the world, the origins of humanity, and the early history of the Israelite people. Key themes in Genesis include the creation of the universe in six days, the fall of humanity through Adam and Eves disobedience, the stories of prominent figures such as Noah and the flood, and the patriarchs Abraham, Isaac, and Jacob. The book also recounts the migration of the Israelites to Egypt and introduces Joseph, whose rise to power in Egypt sets the stage for the enslavement of the Israelites.Genesis provides a theological and historical foundation for the subsequent books of the Bible, establishing fundamental concepts like the covenant between God and humanity, the chosen people, and the promise of a land. The narrative style combines mythic elements with historical accounts, offering a rich and complex portrayal of the origins of the world and the people of Israel.')"
   ]
  },
  {
   "cell_type": "code",
   "execution_count": 5,
   "id": "5edadeb0",
   "metadata": {},
   "outputs": [
    {
     "name": "stdout",
     "output_type": "stream",
     "text": [
      "The Book of Genesis is the first book of the Hebrew Bible and the Christian Old Testament. It serves as the opening chapter of both religious texts and is foundational to the Abrahamic faiths, including Judaism, Christianity, and Islam. Genesis is a compilation of ancient narratives that explore the creation of the world, the origins of humanity, and the early history of the Israelite people. Key themes in Genesis include the creation of the universe in six days, the fall of humanity through Adam and Eves disobedience, the stories of prominent figures such as Noah and the flood, and the patriarchs Abraham, Isaac, and Jacob. The book also recounts the migration of the Israelites to Egypt and introduces Joseph, whose rise to power in Egypt sets the stage for the enslavement of the Israelites.Genesis provides a theological and historical foundation for the subsequent books of the Bible, establishing fundamental concepts like the covenant between God and humanity, the chosen people, and the promise of a land. The narrative style combines mythic elements with historical accounts, offering a rich and complex portrayal of the origins of the world and the people of Israel.\n"
     ]
    }
   ],
   "source": [
    "print(text)"
   ]
  },
  {
   "cell_type": "markdown",
   "id": "84d05ffa",
   "metadata": {},
   "source": [
    "### Text Generation :"
   ]
  },
  {
   "cell_type": "markdown",
   "id": "86140e00",
   "metadata": {},
   "source": [
    "Text generation using transformers relies on sophisticated neural network architectures, like the Transformer model, which utilizes self-attention mechanisms to understand and produce coherent text by capturing contextual dependencies within input sequences. The popularity of transformers stems from their ability to parallelize computations, facilitating quicker training on extensive datasets. Their strength lies in effectively capturing long-range dependencies, enabling the generation of contextually rich and relevant output. Transformer-based text generation finds applications in diverse fields, encompassing natural language understanding, language translation, and creative writing. "
   ]
  },
  {
   "cell_type": "code",
   "execution_count": 6,
   "id": "6c4e4426",
   "metadata": {},
   "outputs": [
    {
     "name": "stderr",
     "output_type": "stream",
     "text": [
      "No model was supplied, defaulted to gpt2 and revision 6c0e608 (https://huggingface.co/gpt2).\n",
      "Using a pipeline without specifying a model name and revision in production is not recommended.\n"
     ]
    },
    {
     "data": {
      "application/vnd.jupyter.widget-view+json": {
       "model_id": "4210057ee9f6418a882f0a136552a64b",
       "version_major": 2,
       "version_minor": 0
      },
      "text/plain": [
       "model.safetensors:   0%|          | 0.00/548M [00:00<?, ?B/s]"
      ]
     },
     "metadata": {},
     "output_type": "display_data"
    },
    {
     "data": {
      "application/vnd.jupyter.widget-view+json": {
       "model_id": "98727d3ea77b4d11896975af979831ab",
       "version_major": 2,
       "version_minor": 0
      },
      "text/plain": [
       "generation_config.json:   0%|          | 0.00/124 [00:00<?, ?B/s]"
      ]
     },
     "metadata": {},
     "output_type": "display_data"
    }
   ],
   "source": [
    "gen = pipeline('text-generation')"
   ]
  },
  {
   "cell_type": "code",
   "execution_count": 7,
   "id": "a916acce",
   "metadata": {},
   "outputs": [
    {
     "name": "stderr",
     "output_type": "stream",
     "text": [
      "Setting `pad_token_id` to `eos_token_id`:50256 for open-end generation.\n"
     ]
    },
    {
     "data": {
      "text/plain": [
       "[{'generated_text': 'The Book of Genesis is the first book of the Hebrew Bible and the Christian Old Testament. It serves as the opening chapter of both religious texts and is foundational to the Abrahamic faiths, including Judaism, Christianity, and Islam. Genesis is a compilation of ancient narratives that explore the creation of the world, the origins of humanity, and the early history of the Israelite people. Key themes in Genesis include the creation of the universe in six days, the fall of humanity through Adam and Eves disobedience, the stories of prominent figures such as Noah and the flood, and the patriarchs Abraham, Isaac, and Jacob. The book also recounts the migration of the Israelites to Egypt and introduces Joseph, whose rise to power in Egypt sets the stage for the enslavement of the Israelites.Genesis provides a theological and historical foundation for the subsequent books of the Bible, establishing fundamental concepts like the covenant between God and humanity, the chosen people, and the promise of a land. The narrative style combines mythic elements with historical accounts, offering a rich and complex portrayal of the origins of the world and the people of Israel. The'}]"
      ]
     },
     "execution_count": 7,
     "metadata": {},
     "output_type": "execute_result"
    }
   ],
   "source": [
    "gen(text)"
   ]
  },
  {
   "cell_type": "code",
   "execution_count": 14,
   "id": "3df25d3a",
   "metadata": {},
   "outputs": [
    {
     "name": "stderr",
     "output_type": "stream",
     "text": [
      "Setting `pad_token_id` to `eos_token_id`:50256 for open-end generation.\n"
     ]
    },
    {
     "data": {
      "text/plain": [
       "[{'generated_text': 'h, which we did not. (We had more than one person who was a member of our team and it showed to the world that we worked with each other, both in our training sessions and in our team meetings.) I got a phone call'}]"
      ]
     },
     "execution_count": 14,
     "metadata": {},
     "output_type": "execute_result"
    }
   ],
   "source": [
    "gen(text[1])"
   ]
  },
  {
   "cell_type": "code",
   "execution_count": 16,
   "id": "9f1e87b2",
   "metadata": {},
   "outputs": [
    {
     "name": "stderr",
     "output_type": "stream",
     "text": [
      "Setting `pad_token_id` to `eos_token_id`:50256 for open-end generation.\n"
     ]
    },
    {
     "name": "stdout",
     "output_type": "stream",
     "text": [
      "[{'generated_text': 'The Book of Genesis is the first book of the Hebrew Bible '\n",
      "                    'and the Christian Old Testament. It serves as the opening '\n",
      "                    'chapter of both religious texts and is foundational to '\n",
      "                    'the Abrahamic faiths, including Judaism, Christianity, '\n",
      "                    'and Islam. Genesis is a compilation of ancient narratives '\n",
      "                    'that explore the creation of the world, the origins of '\n",
      "                    'humanity, and the early history of the Israelite people. '\n",
      "                    'Key themes in Genesis include the creation of the '\n",
      "                    'universe in six days, the fall of humanity through Adam '\n",
      "                    'and Eves disobedience, the stories of prominent figures '\n",
      "                    'such as Noah and the flood, and the patriarchs Abraham, '\n",
      "                    'Isaac, and Jacob. The book also recounts the migration of '\n",
      "                    'the Israelites to Egypt and introduces Joseph, whose rise '\n",
      "                    'to power in Egypt sets the stage for the enslavement of '\n",
      "                    'the Israelites.Genesis provides a theological and '\n",
      "                    'historical foundation for the subsequent books of the '\n",
      "                    'Bible, establishing fundamental concepts like the '\n",
      "                    'covenant between God and humanity, the chosen people, and '\n",
      "                    'the promise of a land. The narrative style combines '\n",
      "                    'mythic elements with historical accounts, offering a rich '\n",
      "                    'and complex portrayal of the origins of the world and the '\n",
      "                    'people of Israel. In'},\n",
      " {'generated_text': 'The Book of Genesis is the first book of the Hebrew Bible '\n",
      "                    'and the Christian Old Testament. It serves as the opening '\n",
      "                    'chapter of both religious texts and is foundational to '\n",
      "                    'the Abrahamic faiths, including Judaism, Christianity, '\n",
      "                    'and Islam. Genesis is a compilation of ancient narratives '\n",
      "                    'that explore the creation of the world, the origins of '\n",
      "                    'humanity, and the early history of the Israelite people. '\n",
      "                    'Key themes in Genesis include the creation of the '\n",
      "                    'universe in six days, the fall of humanity through Adam '\n",
      "                    'and Eves disobedience, the stories of prominent figures '\n",
      "                    'such as Noah and the flood, and the patriarchs Abraham, '\n",
      "                    'Isaac, and Jacob. The book also recounts the migration of '\n",
      "                    'the Israelites to Egypt and introduces Joseph, whose rise '\n",
      "                    'to power in Egypt sets the stage for the enslavement of '\n",
      "                    'the Israelites.Genesis provides a theological and '\n",
      "                    'historical foundation for the subsequent books of the '\n",
      "                    'Bible, establishing fundamental concepts like the '\n",
      "                    'covenant between God and humanity, the chosen people, and '\n",
      "                    'the promise of a land. The narrative style combines '\n",
      "                    'mythic elements with historical accounts, offering a rich '\n",
      "                    'and complex portrayal of the origins of the world and the '\n",
      "                    'people of Israel. The'},\n",
      " {'generated_text': 'The Book of Genesis is the first book of the Hebrew Bible '\n",
      "                    'and the Christian Old Testament. It serves as the opening '\n",
      "                    'chapter of both religious texts and is foundational to '\n",
      "                    'the Abrahamic faiths, including Judaism, Christianity, '\n",
      "                    'and Islam. Genesis is a compilation of ancient narratives '\n",
      "                    'that explore the creation of the world, the origins of '\n",
      "                    'humanity, and the early history of the Israelite people. '\n",
      "                    'Key themes in Genesis include the creation of the '\n",
      "                    'universe in six days, the fall of humanity through Adam '\n",
      "                    'and Eves disobedience, the stories of prominent figures '\n",
      "                    'such as Noah and the flood, and the patriarchs Abraham, '\n",
      "                    'Isaac, and Jacob. The book also recounts the migration of '\n",
      "                    'the Israelites to Egypt and introduces Joseph, whose rise '\n",
      "                    'to power in Egypt sets the stage for the enslavement of '\n",
      "                    'the Israelites.Genesis provides a theological and '\n",
      "                    'historical foundation for the subsequent books of the '\n",
      "                    'Bible, establishing fundamental concepts like the '\n",
      "                    'covenant between God and humanity, the chosen people, and '\n",
      "                    'the promise of a land. The narrative style combines '\n",
      "                    'mythic elements with historical accounts, offering a rich '\n",
      "                    'and complex portrayal of the origins of the world and the '\n",
      "                    'people of Israel. There'}]\n"
     ]
    }
   ],
   "source": [
    "pprint(gen(text, num_return_sequences = 3, max_length = 20))"
   ]
  },
  {
   "cell_type": "code",
   "execution_count": 17,
   "id": "59d4b79f",
   "metadata": {},
   "outputs": [],
   "source": [
    "def wrap(x):\n",
    "    return textwrap.fill(x, \n",
    "                         replace_whitespace = False, \n",
    "                         fix_sentence_endings = True)"
   ]
  },
  {
   "cell_type": "code",
   "execution_count": 19,
   "id": "85c0cb20",
   "metadata": {},
   "outputs": [
    {
     "name": "stderr",
     "output_type": "stream",
     "text": [
      "Setting `pad_token_id` to `eos_token_id`:50256 for open-end generation.\n"
     ]
    },
    {
     "name": "stdout",
     "output_type": "stream",
     "text": [
      "The Book of Genesis is the first book of the Hebrew Bible and the\n",
      "Christian Old Testament.  It serves as the opening chapter of both\n",
      "religious texts and is foundational to the Abrahamic faiths, including\n",
      "Judaism, Christianity, and Islam.  Genesis is a compilation of ancient\n",
      "narratives that explore the creation of the world, the origins of\n",
      "humanity, and the early history of the Israelite people.  Key themes\n",
      "in Genesis include the creation of the universe in six days, the fall\n",
      "of humanity through Adam and Eves disobedience, the stories of\n",
      "prominent figures such as Noah and the flood, and the patriarchs\n",
      "Abraham, Isaac, and Jacob.  The book also recounts the migration of\n",
      "the Israelites to Egypt and introduces Joseph, whose rise to power in\n",
      "Egypt sets the stage for the enslavement of the Israelites.Genesis\n",
      "provides a theological and historical foundation for the subsequent\n",
      "books of the Bible, establishing fundamental concepts like the\n",
      "covenant between God and humanity, the chosen people, and the promise\n",
      "of a land.  The narrative style combines mythic elements with\n",
      "historical accounts, offering a rich and complex portrayal of the\n",
      "origins of the world and the people of Israel.\n"
     ]
    }
   ],
   "source": [
    "out = gen(text, max_length = 30)\n",
    "generated_text = out[0]['generated_text']\n",
    "print(wrap(generated_text))"
   ]
  },
  {
   "cell_type": "code",
   "execution_count": 21,
   "id": "1a800c76",
   "metadata": {},
   "outputs": [
    {
     "name": "stderr",
     "output_type": "stream",
     "text": [
      "Setting `pad_token_id` to `eos_token_id`:50256 for open-end generation.\n"
     ]
    },
    {
     "name": "stdout",
     "output_type": "stream",
     "text": [
      "Neural networks with attention have been used with great successin\n",
      "natural language processing.  It is expected that these types of\n",
      "networks will provide many new cognitive services in the near future\n",
      "because of the large number of interactions with individual human\n",
      "brain regions for which they are the most important.  Here I will\n",
      "discuss these new approaches to brain connectivity and use them to\n",
      "apply their concepts to practical applications.  We will start with\n",
      "the brain network, which integrates processing of speech and imagery\n",
      "in different cultures; as well as its functional connectivity,\n",
      "connectivity to specific types of connections such that connections\n",
      "that are different.  We then consider the neural network of the\n",
      "conscious mind as a potential cognitive resource.  The concept of\n",
      "conscious neural networks comes from a concept referred to as the\n",
      "\"mind-mind interaction,\n"
     ]
    }
   ],
   "source": [
    "prompt = 'Neural networks with attention have been used with great success' + \\\n",
    "'in natural language processing.'\n",
    "\n",
    "out = gen(prompt, max_length = 150)\n",
    "print(wrap(out[0]['generated_text']))"
   ]
  },
  {
   "cell_type": "code",
   "execution_count": null,
   "id": "bfffb39a",
   "metadata": {},
   "outputs": [],
   "source": []
  }
 ],
 "metadata": {
  "kernelspec": {
   "display_name": "Python 3 (ipykernel)",
   "language": "python",
   "name": "python3"
  },
  "language_info": {
   "codemirror_mode": {
    "name": "ipython",
    "version": 3
   },
   "file_extension": ".py",
   "mimetype": "text/x-python",
   "name": "python",
   "nbconvert_exporter": "python",
   "pygments_lexer": "ipython3",
   "version": "3.11.3"
  }
 },
 "nbformat": 4,
 "nbformat_minor": 5
}
