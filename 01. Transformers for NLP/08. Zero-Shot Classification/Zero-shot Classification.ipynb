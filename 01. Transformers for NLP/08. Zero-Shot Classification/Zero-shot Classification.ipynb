{
 "cells": [
  {
   "cell_type": "code",
   "execution_count": 1,
   "id": "b0c3e890",
   "metadata": {},
   "outputs": [
    {
     "name": "stdout",
     "output_type": "stream",
     "text": [
      "WARNING:tensorflow:From C:\\Users\\DELL\\AppData\\Local\\Programs\\Python\\Python311\\Lib\\site-packages\\keras\\src\\losses.py:2976: The name tf.losses.sparse_softmax_cross_entropy is deprecated. Please use tf.compat.v1.losses.sparse_softmax_cross_entropy instead.\n",
      "\n"
     ]
    }
   ],
   "source": [
    "import pandas as pd\n",
    "import numpy as np\n",
    "\n",
    "from transformers import pipeline \n",
    "\n",
    "import warnings\n",
    "warnings.filterwarnings('ignore')"
   ]
  },
  {
   "cell_type": "markdown",
   "id": "76daf3e9",
   "metadata": {},
   "source": [
    "### Zero-shot Classification :"
   ]
  },
  {
   "cell_type": "markdown",
   "id": "9d03518a",
   "metadata": {},
   "source": [
    "`zero-shot-classification` is an NLP pipeline that performs text classification without task-specific training. It requires candidate labels and predicts if the input text is related to any of them. The model is pre-trained and versatile, making it suitable for various classification tasks. It offers a quick solution when specific labeled data is unavailable. It's part of the Hugging Face Transformers library."
   ]
  },
  {
   "cell_type": "code",
   "execution_count": 3,
   "id": "89d0ec76",
   "metadata": {},
   "outputs": [
    {
     "name": "stderr",
     "output_type": "stream",
     "text": [
      "No model was supplied, defaulted to facebook/bart-large-mnli and revision c626438 (https://huggingface.co/facebook/bart-large-mnli).\n",
      "Using a pipeline without specifying a model name and revision in production is not recommended.\n"
     ]
    },
    {
     "data": {
      "application/vnd.jupyter.widget-view+json": {
       "model_id": "740863f2b9ab45a49dd3fff821e30787",
       "version_major": 2,
       "version_minor": 0
      },
      "text/plain": [
       "config.json:   0%|          | 0.00/1.15k [00:00<?, ?B/s]"
      ]
     },
     "metadata": {},
     "output_type": "display_data"
    },
    {
     "data": {
      "application/vnd.jupyter.widget-view+json": {
       "model_id": "9be6e410b6f5446d9abebd6eb86f6e13",
       "version_major": 2,
       "version_minor": 0
      },
      "text/plain": [
       "model.safetensors:   0%|          | 0.00/1.63G [00:00<?, ?B/s]"
      ]
     },
     "metadata": {},
     "output_type": "display_data"
    }
   ],
   "source": [
    "classifier = pipeline('zero-shot-classification')"
   ]
  },
  {
   "cell_type": "code",
   "execution_count": 8,
   "id": "09614b96",
   "metadata": {},
   "outputs": [
    {
     "name": "stdout",
     "output_type": "stream",
     "text": [
      "{'sequence': 'The anime was awesome', 'labels': ['Positive', 'Negative'], 'scores': [0.9875036478042603, 0.012496359646320343]}\n"
     ]
    }
   ],
   "source": [
    "text = 'The anime was awesome'\n",
    "candidate_labels = ['Negative', 'Positive']\n",
    "\n",
    "result = classifier(text, candidate_labels=candidate_labels)\n",
    "print(result)"
   ]
  },
  {
   "cell_type": "code",
   "execution_count": 4,
   "id": "46ca401a",
   "metadata": {},
   "outputs": [],
   "source": [
    "text = 'Eren Yeager is a boy who lives in the town of Shiganshina, located on the outermost of three circular walls which' + \\\n",
    "        'protect their inhabitants from Titans. In the year 845, the first wall (Wall Maria) is breached by two new types of ' + \\\n",
    "        'Titans, the Colossal Titan and the Armored Titan. During the incident, Eren\\'s mother is eaten by a Smiling Titan while' +\\\n",
    "        ' Eren escapes. He swears revenge on all Titans and enlists in the military along with his childhood friends Mikasa Ackerman and Armin Arlert.'\n"
   ]
  },
  {
   "cell_type": "code",
   "execution_count": 5,
   "id": "b20a213c",
   "metadata": {},
   "outputs": [
    {
     "name": "stdout",
     "output_type": "stream",
     "text": [
      "Eren Yeager is a boy who lives in the town of Shiganshina, located on the outermost of three circular walls whichprotect their inhabitants from Titans. In the year 845, the first wall (Wall Maria) is breached by two new types of Titans, the Colossal Titan and the Armored Titan. During the incident, Eren's mother is eaten by a Smiling Titan while Eren escapes. He swears revenge on all Titans and enlists in the military along with his childhood friends Mikasa Ackerman and Armin Arlert.\n"
     ]
    }
   ],
   "source": [
    "print(text)"
   ]
  },
  {
   "cell_type": "code",
   "execution_count": 10,
   "id": "d95a74f6",
   "metadata": {},
   "outputs": [
    {
     "data": {
      "text/plain": [
       "{'sequence': 'The anime was awesome',\n",
       " 'labels': ['Anime', 'Movie'],\n",
       " 'scores': [0.9405436515808105, 0.05945631116628647]}"
      ]
     },
     "execution_count": 10,
     "metadata": {},
     "output_type": "execute_result"
    }
   ],
   "source": [
    "classifier(text, candidate_labels = ['Movie', 'Anime'])"
   ]
  },
  {
   "cell_type": "code",
   "execution_count": null,
   "id": "38819503",
   "metadata": {},
   "outputs": [],
   "source": []
  }
 ],
 "metadata": {
  "kernelspec": {
   "display_name": "Python 3 (ipykernel)",
   "language": "python",
   "name": "python3"
  },
  "language_info": {
   "codemirror_mode": {
    "name": "ipython",
    "version": 3
   },
   "file_extension": ".py",
   "mimetype": "text/x-python",
   "name": "python",
   "nbconvert_exporter": "python",
   "pygments_lexer": "ipython3",
   "version": "3.11.3"
  }
 },
 "nbformat": 4,
 "nbformat_minor": 5
}
