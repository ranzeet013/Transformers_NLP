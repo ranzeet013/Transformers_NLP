{
 "cells": [
  {
   "cell_type": "code",
   "execution_count": 2,
   "id": "ec2f8caf",
   "metadata": {},
   "outputs": [
    {
     "name": "stdout",
     "output_type": "stream",
     "text": [
      "WARNING:tensorflow:From C:\\Users\\DELL\\AppData\\Local\\Programs\\Python\\Python311\\Lib\\site-packages\\keras\\src\\losses.py:2976: The name tf.losses.sparse_softmax_cross_entropy is deprecated. Please use tf.compat.v1.losses.sparse_softmax_cross_entropy instead.\n",
      "\n"
     ]
    }
   ],
   "source": [
    "from transformers import pipeline"
   ]
  },
  {
   "cell_type": "code",
   "execution_count": 3,
   "id": "7f8312ea",
   "metadata": {},
   "outputs": [
    {
     "name": "stderr",
     "output_type": "stream",
     "text": [
      "No model was supplied, defaulted to distilbert-base-cased-distilled-squad and revision 626af31 (https://huggingface.co/distilbert-base-cased-distilled-squad).\n",
      "Using a pipeline without specifying a model name and revision in production is not recommended.\n"
     ]
    },
    {
     "data": {
      "application/vnd.jupyter.widget-view+json": {
       "model_id": "7336422e50a84f208b075a3e57191b44",
       "version_major": 2,
       "version_minor": 0
      },
      "text/plain": [
       "config.json:   0%|          | 0.00/473 [00:00<?, ?B/s]"
      ]
     },
     "metadata": {},
     "output_type": "display_data"
    },
    {
     "name": "stderr",
     "output_type": "stream",
     "text": [
      "C:\\Users\\DELL\\AppData\\Local\\Programs\\Python\\Python311\\Lib\\site-packages\\huggingface_hub\\file_download.py:147: UserWarning: `huggingface_hub` cache-system uses symlinks by default to efficiently store duplicated files but your machine does not support them in C:\\Users\\DELL\\.cache\\huggingface\\hub. Caching files will still work but in a degraded version that might require more space on your disk. This warning can be disabled by setting the `HF_HUB_DISABLE_SYMLINKS_WARNING` environment variable. For more details, see https://huggingface.co/docs/huggingface_hub/how-to-cache#limitations.\n",
      "To support symlinks on Windows, you either need to activate Developer Mode or to run Python as an administrator. In order to see activate developer mode, see this article: https://docs.microsoft.com/en-us/windows/apps/get-started/enable-your-device-for-development\n",
      "  warnings.warn(message)\n"
     ]
    },
    {
     "data": {
      "application/vnd.jupyter.widget-view+json": {
       "model_id": "7254909295284810a53bf0ad3d136200",
       "version_major": 2,
       "version_minor": 0
      },
      "text/plain": [
       "model.safetensors:   0%|          | 0.00/261M [00:00<?, ?B/s]"
      ]
     },
     "metadata": {},
     "output_type": "display_data"
    },
    {
     "data": {
      "application/vnd.jupyter.widget-view+json": {
       "model_id": "9f8e58f7e58c4f2fb29b17b42e012f68",
       "version_major": 2,
       "version_minor": 0
      },
      "text/plain": [
       "tokenizer_config.json:   0%|          | 0.00/29.0 [00:00<?, ?B/s]"
      ]
     },
     "metadata": {},
     "output_type": "display_data"
    },
    {
     "data": {
      "application/vnd.jupyter.widget-view+json": {
       "model_id": "22f4fd946d344209ac9df832f074c4fc",
       "version_major": 2,
       "version_minor": 0
      },
      "text/plain": [
       "vocab.txt:   0%|          | 0.00/213k [00:00<?, ?B/s]"
      ]
     },
     "metadata": {},
     "output_type": "display_data"
    },
    {
     "data": {
      "application/vnd.jupyter.widget-view+json": {
       "model_id": "efe158f8a41f4a2597141a2be9b1a09f",
       "version_major": 2,
       "version_minor": 0
      },
      "text/plain": [
       "tokenizer.json:   0%|          | 0.00/436k [00:00<?, ?B/s]"
      ]
     },
     "metadata": {},
     "output_type": "display_data"
    }
   ],
   "source": [
    "qa = pipeline('question-answering')"
   ]
  },
  {
   "cell_type": "code",
   "execution_count": 4,
   "id": "fb8bb390",
   "metadata": {},
   "outputs": [],
   "source": [
    "context = 'Today I went to walmart to buy PS5.'\n",
    "\n",
    "question = 'What did i buy?'"
   ]
  },
  {
   "cell_type": "code",
   "execution_count": 5,
   "id": "067cb0b7",
   "metadata": {},
   "outputs": [
    {
     "data": {
      "text/plain": [
       "{'score': 0.9837149977684021, 'start': 31, 'end': 34, 'answer': 'PS5'}"
      ]
     },
     "execution_count": 5,
     "metadata": {},
     "output_type": "execute_result"
    }
   ],
   "source": [
    "qa(context = context, question = question)"
   ]
  },
  {
   "cell_type": "code",
   "execution_count": 7,
   "id": "1b01173d",
   "metadata": {},
   "outputs": [],
   "source": [
    "context = 'J. Robert Oppenheimer (1904–1967) was an American theoretical physicist and scientific director of the Manhattan Project, the World War II initiative that developed the first nuclear weapons. Born in New York City, Oppenheimer exhibited exceptional academic prowess, earning a reputation as a brilliant scholar. He made significant contributions to theoretical physics, particularly in quantum mechanics and quantum electrodynamics. However, Oppenheimer is best known for his role in leading the Los Alamos Laboratory, where he oversaw the development of the atomic bomb during the early 1940s.'\n"
   ]
  },
  {
   "cell_type": "code",
   "execution_count": 8,
   "id": "eb618537",
   "metadata": {},
   "outputs": [
    {
     "name": "stdout",
     "output_type": "stream",
     "text": [
      "J. Robert Oppenheimer (1904–1967) was an American theoretical physicist and scientific director of the Manhattan Project, the World War II initiative that developed the first nuclear weapons. Born in New York City, Oppenheimer exhibited exceptional academic prowess, earning a reputation as a brilliant scholar. He made significant contributions to theoretical physics, particularly in quantum mechanics and quantum electrodynamics. However, Oppenheimer is best known for his role in leading the Los Alamos Laboratory, where he oversaw the development of the atomic bomb during the early 1940s.\n"
     ]
    }
   ],
   "source": [
    "print(context)"
   ]
  },
  {
   "cell_type": "code",
   "execution_count": 9,
   "id": "f7d012dc",
   "metadata": {},
   "outputs": [],
   "source": [
    "question = 'Who was J. Robert Oppenheimer?'"
   ]
  },
  {
   "cell_type": "code",
   "execution_count": 10,
   "id": "a9d7da6f",
   "metadata": {},
   "outputs": [
    {
     "data": {
      "text/plain": [
       "{'score': 0.2802576720714569,\n",
       " 'start': 38,\n",
       " 'end': 71,\n",
       " 'answer': 'an American theoretical physicist'}"
      ]
     },
     "execution_count": 10,
     "metadata": {},
     "output_type": "execute_result"
    }
   ],
   "source": [
    "qa(context = context, question = question)"
   ]
  },
  {
   "cell_type": "code",
   "execution_count": null,
   "id": "64fce731",
   "metadata": {},
   "outputs": [],
   "source": []
  }
 ],
 "metadata": {
  "kernelspec": {
   "display_name": "Python 3 (ipykernel)",
   "language": "python",
   "name": "python3"
  },
  "language_info": {
   "codemirror_mode": {
    "name": "ipython",
    "version": 3
   },
   "file_extension": ".py",
   "mimetype": "text/x-python",
   "name": "python",
   "nbconvert_exporter": "python",
   "pygments_lexer": "ipython3",
   "version": "3.11.3"
  }
 },
 "nbformat": 4,
 "nbformat_minor": 5
}
