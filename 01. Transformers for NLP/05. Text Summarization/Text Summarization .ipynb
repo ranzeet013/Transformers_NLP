{
 "cells": [
  {
   "cell_type": "code",
   "execution_count": 1,
   "id": "b235cede",
   "metadata": {},
   "outputs": [],
   "source": [
    "article = 'Ukraine Aid Falters in U.S. Senate as Republicans Insist on Border Restrictions Legislation to send military aid to Ukraine and Israel was on the brink of collapse after a briefing devolved into a screaming match before a critical vote.'\n"
   ]
  },
  {
   "cell_type": "code",
   "execution_count": 2,
   "id": "1c8945ee",
   "metadata": {},
   "outputs": [
    {
     "name": "stdout",
     "output_type": "stream",
     "text": [
      "WARNING:tensorflow:From C:\\Users\\DELL\\AppData\\Local\\Programs\\Python\\Python311\\Lib\\site-packages\\keras\\src\\losses.py:2976: The name tf.losses.sparse_softmax_cross_entropy is deprecated. Please use tf.compat.v1.losses.sparse_softmax_cross_entropy instead.\n",
      "\n"
     ]
    }
   ],
   "source": [
    "import numpy as np\n",
    "import pandas as pd\n",
    "\n",
    "import textwrap\n",
    "from transformers import pipeline"
   ]
  },
  {
   "cell_type": "markdown",
   "id": "d1e1ad53",
   "metadata": {},
   "source": [
    "### Text Summarization :"
   ]
  },
  {
   "cell_type": "markdown",
   "id": "ea462991",
   "metadata": {},
   "source": [
    "Text summarization is a natural language processing technique aimed at condensing large volumes of text while retaining its key information. There are two primary types: extractive summarization, which involves selecting and presenting existing sentences, and abstractive summarization, which generates new, concise sentences to convey the main ideas. Extractive methods often use algorithms to identify and rank important sentences based on content relevance, while abstractive methods employ advanced language models to create concise summaries that may not directly mirror the original wording. "
   ]
  },
  {
   "cell_type": "code",
   "execution_count": 3,
   "id": "f7951ac9",
   "metadata": {},
   "outputs": [
    {
     "name": "stderr",
     "output_type": "stream",
     "text": [
      "No model was supplied, defaulted to sshleifer/distilbart-cnn-12-6 and revision a4f8f3e (https://huggingface.co/sshleifer/distilbart-cnn-12-6).\n",
      "Using a pipeline without specifying a model name and revision in production is not recommended.\n"
     ]
    },
    {
     "data": {
      "application/vnd.jupyter.widget-view+json": {
       "model_id": "e23fedc323134e9893e43d5cee628661",
       "version_major": 2,
       "version_minor": 0
      },
      "text/plain": [
       "tokenizer_config.json:   0%|          | 0.00/26.0 [00:02<?, ?B/s]"
      ]
     },
     "metadata": {},
     "output_type": "display_data"
    },
    {
     "name": "stderr",
     "output_type": "stream",
     "text": [
      "C:\\Users\\DELL\\AppData\\Local\\Programs\\Python\\Python311\\Lib\\site-packages\\huggingface_hub\\file_download.py:147: UserWarning: `huggingface_hub` cache-system uses symlinks by default to efficiently store duplicated files but your machine does not support them in C:\\Users\\DELL\\.cache\\huggingface\\hub. Caching files will still work but in a degraded version that might require more space on your disk. This warning can be disabled by setting the `HF_HUB_DISABLE_SYMLINKS_WARNING` environment variable. For more details, see https://huggingface.co/docs/huggingface_hub/how-to-cache#limitations.\n",
      "To support symlinks on Windows, you either need to activate Developer Mode or to run Python as an administrator. In order to see activate developer mode, see this article: https://docs.microsoft.com/en-us/windows/apps/get-started/enable-your-device-for-development\n",
      "  warnings.warn(message)\n"
     ]
    },
    {
     "data": {
      "application/vnd.jupyter.widget-view+json": {
       "model_id": "ee376bdf69f6451eaea217ffaa59ee6f",
       "version_major": 2,
       "version_minor": 0
      },
      "text/plain": [
       "vocab.json:   0%|          | 0.00/899k [00:00<?, ?B/s]"
      ]
     },
     "metadata": {},
     "output_type": "display_data"
    },
    {
     "data": {
      "application/vnd.jupyter.widget-view+json": {
       "model_id": "752e9dfa2f1e4f6ebed84d31601e9f8a",
       "version_major": 2,
       "version_minor": 0
      },
      "text/plain": [
       "merges.txt:   0%|          | 0.00/456k [00:00<?, ?B/s]"
      ]
     },
     "metadata": {},
     "output_type": "display_data"
    }
   ],
   "source": [
    "summarizer = pipeline('summarization')"
   ]
  },
  {
   "cell_type": "code",
   "execution_count": 4,
   "id": "3b982504",
   "metadata": {},
   "outputs": [
    {
     "name": "stdout",
     "output_type": "stream",
     "text": [
      "Ukraine Aid Falters in U.S. Senate as Republicans Insist on Border\n",
      "Restrictions Legislation to send military aid to Ukraine and Israel\n",
      "was on the brink of collapse after a briefing devolved into a\n",
      "screaming match before a critical vote.\n"
     ]
    }
   ],
   "source": [
    "def wrap(x):\n",
    "    return textwrap.fill(x, \n",
    "                         replace_whitespace = False,\n",
    "                         fix_sentence_endings = True)\n",
    "\n",
    "print(wrap(article))"
   ]
  },
  {
   "cell_type": "code",
   "execution_count": 5,
   "id": "41a016d6",
   "metadata": {},
   "outputs": [
    {
     "name": "stderr",
     "output_type": "stream",
     "text": [
      "Your max_length is set to 142, but your input_length is only 55. Since this is a summarization task, where outputs shorter than the input are typically wanted, you might consider decreasing max_length manually, e.g. summarizer('...', max_length=27)\n"
     ]
    },
    {
     "data": {
      "text/plain": [
       "[{'summary_text': ' Legislation to send military aid to Ukraine and Israel on brink of collapse after a briefing devolved into a screaming match before a critical vote . Ukraine Aid Falters in U.S. Senate as Republicans Insist on Border Restrictions on Border Security . Legislation on the brink of collapsing after briefing devolves into a screaming match before vote .'}]"
      ]
     },
     "execution_count": 5,
     "metadata": {},
     "output_type": "execute_result"
    }
   ],
   "source": [
    "summarizer(wrap(article))"
   ]
  },
  {
   "cell_type": "code",
   "execution_count": null,
   "id": "f01868d1",
   "metadata": {},
   "outputs": [],
   "source": []
  }
 ],
 "metadata": {
  "kernelspec": {
   "display_name": "Python 3 (ipykernel)",
   "language": "python",
   "name": "python3"
  },
  "language_info": {
   "codemirror_mode": {
    "name": "ipython",
    "version": 3
   },
   "file_extension": ".py",
   "mimetype": "text/x-python",
   "name": "python",
   "nbconvert_exporter": "python",
   "pygments_lexer": "ipython3",
   "version": "3.11.3"
  }
 },
 "nbformat": 4,
 "nbformat_minor": 5
}
